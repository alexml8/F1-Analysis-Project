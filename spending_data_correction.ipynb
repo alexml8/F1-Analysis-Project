{
 "cells": [
  {
   "cell_type": "code",
   "execution_count": 2,
   "id": "initial_id",
   "metadata": {
    "collapsed": true,
    "ExecuteTime": {
     "end_time": "2024-04-23T17:26:46.915324Z",
     "start_time": "2024-04-23T17:26:45.783206Z"
    }
   },
   "outputs": [],
   "source": [
    "import json\n",
    "import pandas as pd\n",
    "\n",
    "# Откроем полученный ранее json файл для последующей коррекции данных при необходимости\n",
    "file_path_new = 'data/team_details_report.json'\n",
    "with open(file_path_new, 'r') as file:\n",
    "    data_new = json.load(file)\n",
    "\n",
    "# Подготовим списки для будущих дата фреймов исходя из json файла\n",
    "teams_info_list = []\n",
    "category_wise_spends_list = []\n",
    "race_wise_spends_list = []\n",
    "\n",
    "# Обработаем данные для каждого года\n",
    "for year, content in data_new.items():\n",
    "    teams_data = content['data']\n",
    "    \n",
    "    # Информация о командах\n",
    "    for team in teams_data:\n",
    "        team_info = {\n",
    "            'year': year,\n",
    "            'team_id': team['id'],\n",
    "            'team_name': team['name'],\n",
    "            'total_spends': team['total_spends']\n",
    "        }\n",
    "        teams_info_list.append(team_info)\n",
    "        \n",
    "        # Расходы гоночных команд по категориям\n",
    "        for category_spend in team['category_wise_spends']:\n",
    "            category_spend['team_id'] = team['id']\n",
    "            category_spend['year'] = year\n",
    "            category_wise_spends_list.append(category_spend)\n",
    "        \n",
    "        # Расходы гоночных команд по гонкам\n",
    "        for race_spend in team['race_wise_spends']:\n",
    "            race_spend['team_id'] = team['id']\n",
    "            race_spend['year'] = year\n",
    "            race_wise_spends_list.append(race_spend)\n",
    "\n",
    "# Создаем дата фреймы\n",
    "teams_info_df = pd.DataFrame(teams_info_list)\n",
    "category_wise_spends_df = pd.DataFrame(category_wise_spends_list)\n",
    "race_wise_spends_df = pd.DataFrame(race_wise_spends_list)"
   ]
  },
  {
   "cell_type": "code",
   "outputs": [
    {
     "data": {
      "text/plain": "    year  team_id                  team_name  total_spends\n0   2022        1                   Williams      20041684\n1   2022        2                   Red Bull      81250000\n2   2022        3                   Mercedes      65000000\n3   2022        4                   Mc Laren      55466684\n4   2022        5                    Ferrari      83416684\n5   2022        6               Aston Martin      34400000\n6   2022        7  Stake F1 Team Kick Sauber      21250017\n7   2022        8   Visa Cash App RB F1 Team      23291684\n8   2022        9               Haas F1 Team      18978316\n9   2022       10                     Alpine      33915000\n10  2023        1                   Williams      26470267\n11  2023        2                   Red Bull      90036500\n12  2023        3                   Mercedes      72006200\n13  2023        4                   Mc Laren      65126018\n14  2023        5                    Ferrari      88906517\n15  2023        6               Aston Martin      41779654\n16  2023        7  Stake F1 Team Kick Sauber      28380017\n17  2023        8   Visa Cash App RB F1 Team      29605767\n18  2023        9               Haas F1 Team      25639733\n19  2023       10                     Alpine      41329000",
      "text/html": "<div>\n<style scoped>\n    .dataframe tbody tr th:only-of-type {\n        vertical-align: middle;\n    }\n\n    .dataframe tbody tr th {\n        vertical-align: top;\n    }\n\n    .dataframe thead th {\n        text-align: right;\n    }\n</style>\n<table border=\"1\" class=\"dataframe\">\n  <thead>\n    <tr style=\"text-align: right;\">\n      <th></th>\n      <th>year</th>\n      <th>team_id</th>\n      <th>team_name</th>\n      <th>total_spends</th>\n    </tr>\n  </thead>\n  <tbody>\n    <tr>\n      <th>0</th>\n      <td>2022</td>\n      <td>1</td>\n      <td>Williams</td>\n      <td>20041684</td>\n    </tr>\n    <tr>\n      <th>1</th>\n      <td>2022</td>\n      <td>2</td>\n      <td>Red Bull</td>\n      <td>81250000</td>\n    </tr>\n    <tr>\n      <th>2</th>\n      <td>2022</td>\n      <td>3</td>\n      <td>Mercedes</td>\n      <td>65000000</td>\n    </tr>\n    <tr>\n      <th>3</th>\n      <td>2022</td>\n      <td>4</td>\n      <td>Mc Laren</td>\n      <td>55466684</td>\n    </tr>\n    <tr>\n      <th>4</th>\n      <td>2022</td>\n      <td>5</td>\n      <td>Ferrari</td>\n      <td>83416684</td>\n    </tr>\n    <tr>\n      <th>5</th>\n      <td>2022</td>\n      <td>6</td>\n      <td>Aston Martin</td>\n      <td>34400000</td>\n    </tr>\n    <tr>\n      <th>6</th>\n      <td>2022</td>\n      <td>7</td>\n      <td>Stake F1 Team Kick Sauber</td>\n      <td>21250017</td>\n    </tr>\n    <tr>\n      <th>7</th>\n      <td>2022</td>\n      <td>8</td>\n      <td>Visa Cash App RB F1 Team</td>\n      <td>23291684</td>\n    </tr>\n    <tr>\n      <th>8</th>\n      <td>2022</td>\n      <td>9</td>\n      <td>Haas F1 Team</td>\n      <td>18978316</td>\n    </tr>\n    <tr>\n      <th>9</th>\n      <td>2022</td>\n      <td>10</td>\n      <td>Alpine</td>\n      <td>33915000</td>\n    </tr>\n    <tr>\n      <th>10</th>\n      <td>2023</td>\n      <td>1</td>\n      <td>Williams</td>\n      <td>26470267</td>\n    </tr>\n    <tr>\n      <th>11</th>\n      <td>2023</td>\n      <td>2</td>\n      <td>Red Bull</td>\n      <td>90036500</td>\n    </tr>\n    <tr>\n      <th>12</th>\n      <td>2023</td>\n      <td>3</td>\n      <td>Mercedes</td>\n      <td>72006200</td>\n    </tr>\n    <tr>\n      <th>13</th>\n      <td>2023</td>\n      <td>4</td>\n      <td>Mc Laren</td>\n      <td>65126018</td>\n    </tr>\n    <tr>\n      <th>14</th>\n      <td>2023</td>\n      <td>5</td>\n      <td>Ferrari</td>\n      <td>88906517</td>\n    </tr>\n    <tr>\n      <th>15</th>\n      <td>2023</td>\n      <td>6</td>\n      <td>Aston Martin</td>\n      <td>41779654</td>\n    </tr>\n    <tr>\n      <th>16</th>\n      <td>2023</td>\n      <td>7</td>\n      <td>Stake F1 Team Kick Sauber</td>\n      <td>28380017</td>\n    </tr>\n    <tr>\n      <th>17</th>\n      <td>2023</td>\n      <td>8</td>\n      <td>Visa Cash App RB F1 Team</td>\n      <td>29605767</td>\n    </tr>\n    <tr>\n      <th>18</th>\n      <td>2023</td>\n      <td>9</td>\n      <td>Haas F1 Team</td>\n      <td>25639733</td>\n    </tr>\n    <tr>\n      <th>19</th>\n      <td>2023</td>\n      <td>10</td>\n      <td>Alpine</td>\n      <td>41329000</td>\n    </tr>\n  </tbody>\n</table>\n</div>"
     },
     "execution_count": 3,
     "metadata": {},
     "output_type": "execute_result"
    }
   ],
   "source": [
    "# Отсортируем данные по году и команде и обновим индексы для teams_info_df\n",
    "teams_info_df = teams_info_df.sort_values(by=['year', 'team_id'], ascending=True).reset_index(drop=True)\n",
    "teams_info_df"
   ],
   "metadata": {
    "collapsed": false,
    "ExecuteTime": {
     "end_time": "2024-04-23T17:26:49.891217Z",
     "start_time": "2024-04-23T17:26:49.834010Z"
    }
   },
   "id": "476e13fcb1dbed76",
   "execution_count": 3
  },
  {
   "cell_type": "code",
   "outputs": [
    {
     "data": {
      "text/plain": "     id                 title       sum  team_id  year\n0    61              Salaries  20041684        1  2022\n1    61              Salaries  81250000        2  2022\n2    61              Salaries  65000000        3  2022\n3    61              Salaries  55466684        4  2022\n4    61              Salaries  83416684        5  2022\n..   ..                   ...       ...      ...   ...\n125  61              Salaries  33915000       10  2023\n126  64             Fuel tank    124000       10  2023\n127  83           Driveshafts     54000       10  2023\n128  84  Chassis Wiring Looms    150000       10  2023\n129  85        Wheel Bearings    280000       10  2023\n\n[130 rows x 5 columns]",
      "text/html": "<div>\n<style scoped>\n    .dataframe tbody tr th:only-of-type {\n        vertical-align: middle;\n    }\n\n    .dataframe tbody tr th {\n        vertical-align: top;\n    }\n\n    .dataframe thead th {\n        text-align: right;\n    }\n</style>\n<table border=\"1\" class=\"dataframe\">\n  <thead>\n    <tr style=\"text-align: right;\">\n      <th></th>\n      <th>id</th>\n      <th>title</th>\n      <th>sum</th>\n      <th>team_id</th>\n      <th>year</th>\n    </tr>\n  </thead>\n  <tbody>\n    <tr>\n      <th>0</th>\n      <td>61</td>\n      <td>Salaries</td>\n      <td>20041684</td>\n      <td>1</td>\n      <td>2022</td>\n    </tr>\n    <tr>\n      <th>1</th>\n      <td>61</td>\n      <td>Salaries</td>\n      <td>81250000</td>\n      <td>2</td>\n      <td>2022</td>\n    </tr>\n    <tr>\n      <th>2</th>\n      <td>61</td>\n      <td>Salaries</td>\n      <td>65000000</td>\n      <td>3</td>\n      <td>2022</td>\n    </tr>\n    <tr>\n      <th>3</th>\n      <td>61</td>\n      <td>Salaries</td>\n      <td>55466684</td>\n      <td>4</td>\n      <td>2022</td>\n    </tr>\n    <tr>\n      <th>4</th>\n      <td>61</td>\n      <td>Salaries</td>\n      <td>83416684</td>\n      <td>5</td>\n      <td>2022</td>\n    </tr>\n    <tr>\n      <th>...</th>\n      <td>...</td>\n      <td>...</td>\n      <td>...</td>\n      <td>...</td>\n      <td>...</td>\n    </tr>\n    <tr>\n      <th>125</th>\n      <td>61</td>\n      <td>Salaries</td>\n      <td>33915000</td>\n      <td>10</td>\n      <td>2023</td>\n    </tr>\n    <tr>\n      <th>126</th>\n      <td>64</td>\n      <td>Fuel tank</td>\n      <td>124000</td>\n      <td>10</td>\n      <td>2023</td>\n    </tr>\n    <tr>\n      <th>127</th>\n      <td>83</td>\n      <td>Driveshafts</td>\n      <td>54000</td>\n      <td>10</td>\n      <td>2023</td>\n    </tr>\n    <tr>\n      <th>128</th>\n      <td>84</td>\n      <td>Chassis Wiring Looms</td>\n      <td>150000</td>\n      <td>10</td>\n      <td>2023</td>\n    </tr>\n    <tr>\n      <th>129</th>\n      <td>85</td>\n      <td>Wheel Bearings</td>\n      <td>280000</td>\n      <td>10</td>\n      <td>2023</td>\n    </tr>\n  </tbody>\n</table>\n<p>130 rows × 5 columns</p>\n</div>"
     },
     "execution_count": 4,
     "metadata": {},
     "output_type": "execute_result"
    }
   ],
   "source": [
    "# Отсортируем данные по году и команде, удалим лишний столбец и обновим индексы для category_wise_spends_df\n",
    "category_wise_spends_df = category_wise_spends_df.sort_values(by=['year', 'team_id'], ascending=True).reset_index(drop=True).drop(columns='color')\n",
    "category_wise_spends_df"
   ],
   "metadata": {
    "collapsed": false,
    "ExecuteTime": {
     "end_time": "2024-04-23T17:26:50.707224Z",
     "start_time": "2024-04-23T17:26:50.666526Z"
    }
   },
   "id": "da40253d49ca6f94",
   "execution_count": 4
  },
  {
   "cell_type": "code",
   "outputs": [
    {
     "data": {
      "text/plain": "     id                            title     sum  team_id  year\n0    19       Japanese Grand Prix [2023]  385417        1  2022\n1    21         Mexico Grand Prix [2023]  385417        1  2022\n2    25          Dhabi Grand Prix [2023]  385417        1  2022\n3     8         Monaco Grand Prix [2023]  385417        1  2022\n4    17        Italian Grand Prix [2023]  770834        1  2022\n..   ..                              ...     ...      ...   ...\n403  15        Belgian Grand Prix [2023]  683000       10  2023\n404  20          Qatar Grand Prix [2023]  665000       10  2023\n405   9        Spanish Grand Prix [2023]  665000       10  2023\n406  22  United States Grand Prix [2023]  665000       10  2023\n407  18      Singapore Grand Prix [2023]  665000       10  2023\n\n[408 rows x 5 columns]",
      "text/html": "<div>\n<style scoped>\n    .dataframe tbody tr th:only-of-type {\n        vertical-align: middle;\n    }\n\n    .dataframe tbody tr th {\n        vertical-align: top;\n    }\n\n    .dataframe thead th {\n        text-align: right;\n    }\n</style>\n<table border=\"1\" class=\"dataframe\">\n  <thead>\n    <tr style=\"text-align: right;\">\n      <th></th>\n      <th>id</th>\n      <th>title</th>\n      <th>sum</th>\n      <th>team_id</th>\n      <th>year</th>\n    </tr>\n  </thead>\n  <tbody>\n    <tr>\n      <th>0</th>\n      <td>19</td>\n      <td>Japanese Grand Prix [2023]</td>\n      <td>385417</td>\n      <td>1</td>\n      <td>2022</td>\n    </tr>\n    <tr>\n      <th>1</th>\n      <td>21</td>\n      <td>Mexico Grand Prix [2023]</td>\n      <td>385417</td>\n      <td>1</td>\n      <td>2022</td>\n    </tr>\n    <tr>\n      <th>2</th>\n      <td>25</td>\n      <td>Dhabi Grand Prix [2023]</td>\n      <td>385417</td>\n      <td>1</td>\n      <td>2022</td>\n    </tr>\n    <tr>\n      <th>3</th>\n      <td>8</td>\n      <td>Monaco Grand Prix [2023]</td>\n      <td>385417</td>\n      <td>1</td>\n      <td>2022</td>\n    </tr>\n    <tr>\n      <th>4</th>\n      <td>17</td>\n      <td>Italian Grand Prix [2023]</td>\n      <td>770834</td>\n      <td>1</td>\n      <td>2022</td>\n    </tr>\n    <tr>\n      <th>...</th>\n      <td>...</td>\n      <td>...</td>\n      <td>...</td>\n      <td>...</td>\n      <td>...</td>\n    </tr>\n    <tr>\n      <th>403</th>\n      <td>15</td>\n      <td>Belgian Grand Prix [2023]</td>\n      <td>683000</td>\n      <td>10</td>\n      <td>2023</td>\n    </tr>\n    <tr>\n      <th>404</th>\n      <td>20</td>\n      <td>Qatar Grand Prix [2023]</td>\n      <td>665000</td>\n      <td>10</td>\n      <td>2023</td>\n    </tr>\n    <tr>\n      <th>405</th>\n      <td>9</td>\n      <td>Spanish Grand Prix [2023]</td>\n      <td>665000</td>\n      <td>10</td>\n      <td>2023</td>\n    </tr>\n    <tr>\n      <th>406</th>\n      <td>22</td>\n      <td>United States Grand Prix [2023]</td>\n      <td>665000</td>\n      <td>10</td>\n      <td>2023</td>\n    </tr>\n    <tr>\n      <th>407</th>\n      <td>18</td>\n      <td>Singapore Grand Prix [2023]</td>\n      <td>665000</td>\n      <td>10</td>\n      <td>2023</td>\n    </tr>\n  </tbody>\n</table>\n<p>408 rows × 5 columns</p>\n</div>"
     },
     "execution_count": 5,
     "metadata": {},
     "output_type": "execute_result"
    }
   ],
   "source": [
    "# Отсортируем данные по году и команде, удалим лишний столбец и обновим индексы для race_wise_spends_df\n",
    "race_wise_spends_df = race_wise_spends_df.sort_values(by=['year', 'team_id'], ascending=True).reset_index(drop=True).drop(columns='color')\n",
    "race_wise_spends_df"
   ],
   "metadata": {
    "collapsed": false,
    "ExecuteTime": {
     "end_time": "2024-04-23T17:26:51.982157Z",
     "start_time": "2024-04-23T17:26:51.944273Z"
    }
   },
   "id": "eabba5659e71ab3e",
   "execution_count": 5
  },
  {
   "cell_type": "code",
   "outputs": [],
   "source": [
    "# Запишем готовые датафреймы в csv таблицы, с которыми будем работать дальше\n",
    "race_wise_spends_df.to_csv('data/race_wise_spends.csv', index=False)    \n",
    "category_wise_spends_df.to_csv('data/category_wise_spends.csv', index=False)    \n",
    "teams_info_df.to_csv('data/team_info.csv', index=False)    "
   ],
   "metadata": {
    "collapsed": false,
    "ExecuteTime": {
     "end_time": "2024-04-23T17:26:53.018177Z",
     "start_time": "2024-04-23T17:26:52.986851Z"
    }
   },
   "id": "2d87138f03d658fd",
   "execution_count": 6
  }
 ],
 "metadata": {
  "kernelspec": {
   "display_name": "Python 3",
   "language": "python",
   "name": "python3"
  },
  "language_info": {
   "codemirror_mode": {
    "name": "ipython",
    "version": 2
   },
   "file_extension": ".py",
   "mimetype": "text/x-python",
   "name": "python",
   "nbconvert_exporter": "python",
   "pygments_lexer": "ipython2",
   "version": "2.7.6"
  }
 },
 "nbformat": 4,
 "nbformat_minor": 5
}
