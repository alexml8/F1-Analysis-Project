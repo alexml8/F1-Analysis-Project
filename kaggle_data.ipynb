{
 "cells": [
  {
   "cell_type": "code",
   "execution_count": 2,
   "id": "initial_id",
   "metadata": {
    "collapsed": true,
    "ExecuteTime": {
     "end_time": "2024-05-12T17:34:31.561093Z",
     "start_time": "2024-05-12T17:34:30.535788Z"
    }
   },
   "outputs": [],
   "source": [
    "import pandas as pd"
   ]
  },
  {
   "cell_type": "markdown",
   "source": [
    "## Откроем таблицы, загруженные с каггла"
   ],
   "metadata": {
    "collapsed": false
   },
   "id": "c1dad5eab1c9e4cf"
  },
  {
   "cell_type": "code",
   "outputs": [],
   "source": [
    "df_circuits = pd.read_csv('archive_kaggle/circuits.csv')\n",
    "df_constructor_results = pd.read_csv('archive_kaggle/constructor_results.csv')\n",
    "df_constructor_standings = pd.read_csv('archive_kaggle/constructor_standings.csv')\n",
    "df_constructors = pd.read_csv('archive_kaggle/constructors.csv')\n",
    "df_driver_standings = pd.read_csv('archive_kaggle/driver_standings.csv')\n",
    "df_drivers = pd.read_csv('archive_kaggle/drivers.csv')\n",
    "df_lap_times = pd.read_csv('archive_kaggle/lap_times.csv')\n",
    "df_pit_stops = pd.read_csv('archive_kaggle/pit_stops.csv')\n",
    "df_qualifying= pd.read_csv('archive_kaggle/qualifying.csv')\n",
    "df_races = pd.read_csv('archive_kaggle/races.csv')\n",
    "df_results = pd.read_csv('archive_kaggle/results.csv')\n",
    "df_seasons = pd.read_csv('archive_kaggle/seasons.csv')\n",
    "df_sprint_results = pd.read_csv('archive_kaggle/sprint_results.csv')\n",
    "df_status = pd.read_csv('archive_kaggle/status.csv')"
   ],
   "metadata": {
    "collapsed": false,
    "ExecuteTime": {
     "end_time": "2024-05-12T17:34:32.341061Z",
     "start_time": "2024-05-12T17:34:31.569704Z"
    }
   },
   "id": "582d28f2f3dd0760",
   "execution_count": 3
  },
  {
   "cell_type": "markdown",
   "source": [
    "## Оставим в данных только те строки, которые будем изучать в дальнейшем "
   ],
   "metadata": {
    "collapsed": false
   },
   "id": "b30e837247cf72ba"
  },
  {
   "cell_type": "code",
   "outputs": [],
   "source": [
    "# Оставим данные только за 2022 и 2023 года\n",
    "\n",
    "df_races = df_races[df_races['year'].isin([2022, 2023])]\n",
    "\n",
    "#Создадим список таблиц, которые необходимо обновить\n",
    "list_of_tables = [df_sprint_results, df_results, df_qualifying, df_pit_stops, df_lap_times, df_driver_standings, df_constructor_standings, df_constructor_results]\n",
    "\n",
    "updated_tables = []\n",
    "\n",
    "# Объединим таблицу с таблицей гонок по raceId, чтобы оставить только данные за интересующие нас года\n",
    "for table in list_of_tables:\n",
    "    updated_table = table.merge(df_races[['raceId']], on='raceId', how='inner')\n",
    "    updated_tables.append(updated_table)\n",
    "\n",
    "# Присвоим обновленные таблицы их исходным переменным, чтобы использовать их в дальнейшем\n",
    "df_sprint_results, df_results, df_qualifying, df_pit_stops, df_lap_times, df_driver_standings, df_constructor_standings, df_constructor_results = updated_tables"
   ],
   "metadata": {
    "collapsed": false,
    "ExecuteTime": {
     "end_time": "2024-05-12T17:34:32.404132Z",
     "start_time": "2024-05-12T17:34:32.342652Z"
    }
   },
   "id": "9fbc801a7fb8290f",
   "execution_count": 4
  },
  {
   "cell_type": "markdown",
   "source": [
    "## Выгрузим обновленные таблицы в папку с изучаемыми данными"
   ],
   "metadata": {
    "collapsed": false
   },
   "id": "16499b7b08b36ee0"
  },
  {
   "cell_type": "code",
   "outputs": [],
   "source": [
    "# Сохраним данные в папку data \n",
    "df_races.to_csv('data/races_updated.csv', index=False)\n",
    "df_sprint_results.to_csv('data/sprint_results_updated.csv', index=False)\n",
    "df_results.to_csv('data/results_updated.csv', index=False)\n",
    "df_qualifying.to_csv('data/qualifying_updated.csv', index=False)\n",
    "df_pit_stops.to_csv('data/pit_stops_updated.csv', index=False)\n",
    "df_lap_times.to_csv('data/lap_times_updated.csv', index=False)\n",
    "df_driver_standings.to_csv('data/driver_standings_updated.csv', index=False)\n",
    "df_constructor_standings.to_csv('data/constructor_standings_updated.csv', index=False)\n",
    "df_constructor_results.to_csv('data/constructor_results_updated.csv', index=False)\n",
    "df_drivers.to_csv('data/drivers_updated.csv', index=False)\n",
    "df_constructors.to_csv('data/constructors_updated.csv', index=False)"
   ],
   "metadata": {
    "collapsed": false,
    "ExecuteTime": {
     "end_time": "2024-05-12T19:07:30.979524Z",
     "start_time": "2024-05-12T19:07:30.381500Z"
    }
   },
   "id": "e57759f925107f4a",
   "execution_count": 9
  },
  {
   "cell_type": "code",
   "outputs": [],
   "source": [],
   "metadata": {
    "collapsed": false
   },
   "id": "243dad4061617b8f"
  }
 ],
 "metadata": {
  "kernelspec": {
   "display_name": "Python 3",
   "language": "python",
   "name": "python3"
  },
  "language_info": {
   "codemirror_mode": {
    "name": "ipython",
    "version": 2
   },
   "file_extension": ".py",
   "mimetype": "text/x-python",
   "name": "python",
   "nbconvert_exporter": "python",
   "pygments_lexer": "ipython2",
   "version": "2.7.6"
  }
 },
 "nbformat": 4,
 "nbformat_minor": 5
}
